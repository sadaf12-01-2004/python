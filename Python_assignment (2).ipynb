{
 "cells": [
  {
   "cell_type": "markdown",
   "id": "b1042c46",
   "metadata": {},
   "source": [
    "# 1) What are the types of Applications?"
   ]
  },
  {
   "cell_type": "markdown",
   "id": "be4cc73b",
   "metadata": {},
   "source": [
    "-> Web Development\n",
    "-> Machine Learning and Artificial Intelligence\n",
    "-> Data Science\n",
    "-> Game Development\n",
    "-> Audio and Visual Applications\n",
    "-> Software Development\n",
    "-> Desktop GUI\n",
    "-> Web Scraping Application"
   ]
  },
  {
   "cell_type": "markdown",
   "id": "cb3806cd",
   "metadata": {},
   "source": [
    "# 2) What is programing? "
   ]
  },
  {
   "cell_type": "markdown",
   "id": "de622e8b",
   "metadata": {},
   "source": [
    "-> Programming is a collaboration between humans and computers, where humans create code that computers can understand."
   ]
  },
  {
   "cell_type": "markdown",
   "id": "e12f56c0",
   "metadata": {},
   "source": [
    "\n",
    "# 3) What is Python? "
   ]
  },
  {
   "cell_type": "markdown",
   "id": "9dde65db",
   "metadata": {},
   "source": [
    "-> Python is a high-level, interpreted, general-purpose programimng language. it supports object oriented programming language.\n",
    "   it is simple and easy to learn and provides lots of high-level data structure.it is open source language. it is wide range \n",
    "   of libraries and frameworks."
   ]
  },
  {
   "cell_type": "markdown",
   "id": "3122a33d",
   "metadata": {},
   "source": [
    "# 4) Write a Python program to check if a number is positive, negative or zero."
   ]
  },
  {
   "cell_type": "code",
   "execution_count": null,
   "id": "62df1686",
   "metadata": {},
   "outputs": [],
   "source": [
    "num = int(input(\"enter the number: \"))\n",
    "if num > 0:\n",
    "    print(\"Positive Number\")\n",
    "elif num == 0:\n",
    "    print(\"Zero\")\n",
    "else:\n",
    "    print(\"Negative number\")"
   ]
  },
  {
   "cell_type": "markdown",
   "id": "15b2bea3",
   "metadata": {},
   "source": [
    "# 5) Write a Python program to get the Factorial number of given numbers."
   ]
  },
  {
   "cell_type": "code",
   "execution_count": 3,
   "id": "788fcdd3",
   "metadata": {},
   "outputs": [
    {
     "name": "stdin",
     "output_type": "stream",
     "text": [
      "enter the number:  5\n"
     ]
    },
    {
     "name": "stdout",
     "output_type": "stream",
     "text": [
      "25\n"
     ]
    }
   ],
   "source": [
    "num = int(input(\"enter the number: \"))\n",
    "fact = 1\n",
    "for i in range(5,num+1):\n",
    "    fact = i * fact\n",
    "print(fact)"
   ]
  },
  {
   "cell_type": "markdown",
   "id": "837a1220",
   "metadata": {},
   "source": [
    "#  6) Write a Python program to get the Fibonacci series of given range. "
   ]
  },
  {
   "cell_type": "code",
   "execution_count": 5,
   "id": "69fea4b8",
   "metadata": {},
   "outputs": [
    {
     "name": "stdin",
     "output_type": "stream",
     "text": [
      "How many terms?  6\n"
     ]
    },
    {
     "name": "stdout",
     "output_type": "stream",
     "text": [
      "Fibonacci sequence:\n",
      "0\n",
      "1\n",
      "1\n",
      "2\n",
      "3\n",
      "5\n"
     ]
    }
   ],
   "source": [
    "num = int(input(\"How many terms? \"))\n",
    "\n",
    "n1, n2 = 0, 1\n",
    "count = 0\n",
    "\n",
    "if num <= 0:\n",
    "   print(\"Please enter a positive integer\")\n",
    "elif num == 1:\n",
    "   print(\"Fibonacci sequence upto\",num,\":\")\n",
    "   print(n1)\n",
    "\n",
    "else:\n",
    "   print(\"Fibonacci sequence:\")\n",
    "   while count < num:\n",
    "       print(n1)\n",
    "       nth = n1 + n2\n",
    "       n1 = n2\n",
    "       n2 = nth\n",
    "       count += 1"
   ]
  },
  {
   "cell_type": "markdown",
   "id": "582f644e",
   "metadata": {},
   "source": [
    "\n",
    "# 7) How memory is managed in Python?"
   ]
  },
  {
   "cell_type": "markdown",
   "id": "97eceeb9",
   "metadata": {},
   "source": [
    "-> You can classify memory management in Python in one of two ways: dynamic allocation or static allocation. \n",
    "Dynamic allocation occurs as the program is running. This means that as the program operates, it can dynamically \n",
    "determine where to allocate memory while reusing and releasing it."
   ]
  },
  {
   "cell_type": "markdown",
   "id": "eff5a1f2",
   "metadata": {},
   "source": [
    "# 8) What is the purpose continuing statement in python? "
   ]
  },
  {
   "cell_type": "markdown",
   "id": "db02b8b2",
   "metadata": {},
   "source": [
    "-> In Python, the continue statement is used within loops (like for or while) to skip the remaining code in \n",
    "the current iteration and move on to the next iteration."
   ]
  },
  {
   "cell_type": "markdown",
   "id": "2da36cf6",
   "metadata": {},
   "source": [
    "# 9) Write python program that swap two number with temp variable and         without temp variable"
   ]
  },
  {
   "cell_type": "code",
   "execution_count": 7,
   "id": "7d5a3ff2",
   "metadata": {},
   "outputs": [
    {
     "name": "stdin",
     "output_type": "stream",
     "text": [
      "enter the value x:  6\n",
      "enter the value y:  7\n"
     ]
    },
    {
     "name": "stdout",
     "output_type": "stream",
     "text": [
      "The value of x after swapping: 7\n",
      "The value of x after swapping: 6\n"
     ]
    }
   ],
   "source": [
    "# using a temp variable\n",
    "\n",
    "x = int(input(\"enter the value x: \"))\n",
    "y = int(input(\"enter the value y: \"))\n",
    "\n",
    "temp = x\n",
    "x = y\n",
    "y = temp\n",
    "\n",
    "print(f\"The value of x after swapping: {x}\")\n",
    "print(f\"The value of x after swapping: {y}\")"
   ]
  },
  {
   "cell_type": "code",
   "execution_count": null,
   "id": "85f9de75",
   "metadata": {},
   "outputs": [],
   "source": [
    "# without Using Temp Variable\n",
    "\n",
    "x = int(input(\"enter the value x: \"))\n",
    "y = int(input(\"enter the value y: \"))\n",
    "\n",
    "x, y = y, x\n",
    "\n",
    "print(f\"The value of x after swapping: {x}\")\n",
    "print(f\"The value of x after swapping: {y}\")"
   ]
  },
  {
   "cell_type": "markdown",
   "id": "4ea14165",
   "metadata": {},
   "source": [
    "# 10) Write a Python program to find whether a given number is even or odd, print out an appropriate message to the user."
   ]
  },
  {
   "cell_type": "code",
   "execution_count": 11,
   "id": "c1ce7a0c",
   "metadata": {},
   "outputs": [
    {
     "name": "stdin",
     "output_type": "stream",
     "text": [
      "enter the number:  8\n"
     ]
    },
    {
     "name": "stdout",
     "output_type": "stream",
     "text": [
      "This is even number\n",
      "Thank you\n"
     ]
    }
   ],
   "source": [
    "num = int(input(\"enter the number: \"))\n",
    "if num%2 == 0:\n",
    "    print(\"This is even number\")\n",
    "else:\n",
    "    print(\"This is odd number\")\n",
    "    \n",
    "print(\"Thank you\")"
   ]
  },
  {
   "cell_type": "markdown",
   "id": "eab05f01",
   "metadata": {},
   "source": [
    "# 11) Write a Python program to test whether a passed letter is a vowel or not. "
   ]
  },
  {
   "cell_type": "code",
   "execution_count": 15,
   "id": "c2db9c1d",
   "metadata": {},
   "outputs": [
    {
     "name": "stdin",
     "output_type": "stream",
     "text": [
      "enter only one letter:  j\n"
     ]
    },
    {
     "name": "stdout",
     "output_type": "stream",
     "text": [
      "The character 'j' is a consonant!\n"
     ]
    }
   ],
   "source": [
    "letter = input(\"enter only one letter: \")\n",
    "vowels = ['a', 'e', 'i', 'o', 'u', 'A', 'E', 'I', 'O', 'U']\n",
    "\n",
    "if letter in vowels:\n",
    "    print(f\"The character '{letter}' is a vowel!\") \n",
    "else:\n",
    "    print(f\"The character '{letter}' is a consonant!\")"
   ]
  },
  {
   "cell_type": "markdown",
   "id": "e26f3e90",
   "metadata": {},
   "source": [
    "# 12) Write a Python program to sum of three given integers. However, if two values are equal sum will be zero."
   ]
  },
  {
   "cell_type": "code",
   "execution_count": 17,
   "id": "b4e08294",
   "metadata": {},
   "outputs": [
    {
     "name": "stdin",
     "output_type": "stream",
     "text": [
      "enetr the number1:  25\n",
      "enter the number2:  25\n",
      "enter the number3:  50\n"
     ]
    },
    {
     "name": "stdout",
     "output_type": "stream",
     "text": [
      "0\n"
     ]
    }
   ],
   "source": [
    "num1 = int(input(\"enetr the number1: \"))\n",
    "num2 = int(input(\"enter the number2: \"))\n",
    "num3 = int(input(\"enter the number3: \"))\n",
    "if num1 == num2:\n",
    "    print(\"0\")\n",
    "elif num2 == num3:\n",
    "    print(\"0\")\n",
    "elif num1 == num3:\n",
    "    print(\"0\")\n",
    "else:\n",
    "    print(\"total\",num1+num2+num3)"
   ]
  },
  {
   "cell_type": "markdown",
   "id": "e43ed196",
   "metadata": {},
   "source": [
    "# 13) Write a Python program that will return true if the two given integer values are equal or their sum or difference is 5. \n"
   ]
  },
  {
   "cell_type": "code",
   "execution_count": null,
   "id": "1175d6d8",
   "metadata": {},
   "outputs": [],
   "source": [
    "num1 = int(input(\"enter the number1: \"))\n",
    "num2 = int(input(\"enter the number2: \"))\n",
    "\n",
    "if num1 == num2 or (num1+num2 == 5) or (abs(num1-num2) == 5):\n",
    "    print(\"True\")\n",
    "else:\n",
    "    print(\"False\")"
   ]
  },
  {
   "cell_type": "markdown",
   "id": "bcd22efe",
   "metadata": {},
   "source": [
    "# 14)Write a python program to sum of the first n positive integers. \n"
   ]
  },
  {
   "cell_type": "code",
   "execution_count": 20,
   "id": "0d194350",
   "metadata": {},
   "outputs": [
    {
     "name": "stdout",
     "output_type": "stream",
     "text": [
      "44\n"
     ]
    }
   ],
   "source": [
    "sum = 0\n",
    "for i in range(2,10):\n",
    "    sum += i\n",
    "print(sum)"
   ]
  },
  {
   "cell_type": "markdown",
   "id": "45ef1b6d",
   "metadata": {},
   "source": [
    "# 15)Write a Python program to calculate the length of a string. \n"
   ]
  },
  {
   "cell_type": "code",
   "execution_count": null,
   "id": "de6e35de",
   "metadata": {},
   "outputs": [],
   "source": [
    "text = input(\"Enter the text:-\").strip()\n",
    "print(len(text))"
   ]
  },
  {
   "cell_type": "markdown",
   "id": "20d3ace9",
   "metadata": {},
   "source": [
    "# 16) Write a Python program to count the number of characters (character frequency) in a string "
   ]
  },
  {
   "cell_type": "code",
   "execution_count": 22,
   "id": "7728e3e5",
   "metadata": {},
   "outputs": [
    {
     "name": "stdin",
     "output_type": "stream",
     "text": [
      "Enter the text:  sadaf\n"
     ]
    },
    {
     "name": "stdout",
     "output_type": "stream",
     "text": [
      "{'s': 1, 'a': 2, 'd': 1, 'f': 1}\n"
     ]
    }
   ],
   "source": [
    "text = input(\"Enter the text: \").strip()\n",
    "fecq = {}\n",
    "for i in text:\n",
    "    if i in fecq:\n",
    "        fecq[i] += 1\n",
    "    else:\n",
    "        fecq[i] = 1\n",
    "print(fecq)"
   ]
  },
  {
   "cell_type": "markdown",
   "id": "39c5aefe",
   "metadata": {},
   "source": [
    "# 17) What are negative indexes and why are they used?"
   ]
  },
  {
   "cell_type": "markdown",
   "id": "070a2cc1",
   "metadata": {},
   "source": [
    "Negative indexes in Python are a powerful feature that allows us to access elements in a list from the end instead of \n",
    "the beginning. This can be particularly useful when dealing with large lists or when we need to access the last few \n",
    "elements without knowing their exact position."
   ]
  },
  {
   "cell_type": "markdown",
   "id": "ac12f9b7",
   "metadata": {},
   "source": [
    "# 18)Write a Python program to count occurrences of a substring in a string. "
   ]
  },
  {
   "cell_type": "code",
   "execution_count": 24,
   "id": "bd90357a",
   "metadata": {},
   "outputs": [
    {
     "name": "stdin",
     "output_type": "stream",
     "text": [
      "Enter the text:  ansari\n",
      "find substring in a string:  sadaf\n"
     ]
    },
    {
     "name": "stdout",
     "output_type": "stream",
     "text": [
      "0\n"
     ]
    }
   ],
   "source": [
    "text = input(\"Enter the text: \")\n",
    "find = input(\"find substring in a string: \")\n",
    "print(text.count(find))"
   ]
  },
  {
   "cell_type": "markdown",
   "id": "3d4baf8f",
   "metadata": {},
   "source": [
    "# 19) Write a Python program to count the occurrences of each word in a given sentence"
   ]
  },
  {
   "cell_type": "code",
   "execution_count": null,
   "id": "1dda8d31",
   "metadata": {},
   "outputs": [],
   "source": [
    "text = input(\"Enter the text: \").split()\n",
    "count = {}\n",
    "for i in text:\n",
    "    if i in count:\n",
    "        count[i] += 1\n",
    "    else:\n",
    "        count[i] = 1\n",
    "print(count)"
   ]
  },
  {
   "cell_type": "markdown",
   "id": "5d9c7eb5",
   "metadata": {},
   "source": [
    "# 20) Write a Python program to get a single string from two given strings,separated by a space and swap the first two characters of each string."
   ]
  },
  {
   "cell_type": "code",
   "execution_count": null,
   "id": "bd127e86",
   "metadata": {},
   "outputs": [],
   "source": [
    "text = input(\"Enter the text: \")\n",
    "text2 = input(\"Enter the text: \")\n",
    "join = text2[:2]+text[2:] + \" \" +text[:2]+text2[2:]\n",
    "print(join)"
   ]
  },
  {
   "cell_type": "markdown",
   "id": "2a66ffd0",
   "metadata": {},
   "source": [
    "# 21) Write a Python program to add 'in' at the end of a given string (length should be at least 3). If the given string  already ends with 'ing' then add 'ly' instead if the string length of the given string is less than 3, leave it unchanged. \n"
   ]
  },
  {
   "cell_type": "code",
   "execution_count": 28,
   "id": "f4368fbd",
   "metadata": {},
   "outputs": [
    {
     "name": "stdin",
     "output_type": "stream",
     "text": [
      "Enter the text:  mustafa\n"
     ]
    },
    {
     "name": "stdout",
     "output_type": "stream",
     "text": [
      "mustafa\n"
     ]
    }
   ],
   "source": [
    "text = input(\"Enter the text: \")\n",
    "\n",
    "if len(text) > 5 :\n",
    "    if text[-3:] == \"ing\":\n",
    "        text += \"ly\"\n",
    "    print(text)\n",
    "else:\n",
    "    print(text+\"ing\")"
   ]
  },
  {
   "cell_type": "markdown",
   "id": "50bf730d",
   "metadata": {},
   "source": [
    "# 22)Write a Python function to reverses a string if its length is a multiple of 4. "
   ]
  },
  {
   "cell_type": "code",
   "execution_count": null,
   "id": "b70a6d4c",
   "metadata": {},
   "outputs": [],
   "source": [
    "text = input(\"enter the text: \").strip()\n",
    "    \n",
    "if len(text) % 4 == 0:\n",
    "    print(text[::-1])\n",
    "    \n",
    "else:\n",
    "    print(text)"
   ]
  },
  {
   "cell_type": "markdown",
   "id": "3ad5ebd7",
   "metadata": {},
   "source": [
    "# 23) Write a Python program to get a string made of the first 2 and the last 2 chars from a given a string. If the string length is less than 2, return instead of the empty string. "
   ]
  },
  {
   "cell_type": "code",
   "execution_count": null,
   "id": "f14da372",
   "metadata": {},
   "outputs": [],
   "source": [
    "text = input(\"enter the text: \")\n",
    "if len(text) > 2:\n",
    "    print(text[0:2]+text[-2:])\n",
    "else:\n",
    "    print(\" \")"
   ]
  },
  {
   "cell_type": "markdown",
   "id": "d20e117c",
   "metadata": {},
   "source": [
    "# 24) Write a Python function to insert a string in the middle of a string"
   ]
  },
  {
   "cell_type": "code",
   "execution_count": null,
   "id": "7d2a7231",
   "metadata": {},
   "outputs": [],
   "source": [
    "text = input(\"enter the text: \")\n",
    "word = input(\"enter the middle word: \")\n",
    "middle = len(text) // 2\n",
    "print(text[:middle] + word + text[middle:])"
   ]
  },
  {
   "cell_type": "markdown",
   "id": "3ec4afd8",
   "metadata": {},
   "source": [
    "# 25) What is List? How will you reverse a list? "
   ]
  },
  {
   "cell_type": "markdown",
   "id": "7fd18da8",
   "metadata": {},
   "source": [
    "-> List are conteners to store a set of values of any data type. \n",
    "-> list are order \n",
    "-> list is mutable \n",
    "-> list element can be accessed via the index.\n",
    "\n",
    "-> The simplest way to reverse a list is by using the reverse() method.\n",
    "Example a = [\"j\",\"a\",\"y\"]\n",
    "        a.reverse()\n",
    "        print(a)\n",
    "     o/p = [\"y\",\"a\",\"j\"]"
   ]
  },
  {
   "cell_type": "markdown",
   "id": "dddaa224",
   "metadata": {},
   "source": [
    "# 26) How will you remove last object from a list?"
   ]
  },
  {
   "cell_type": "markdown",
   "id": "e6644f6f",
   "metadata": {},
   "source": [
    "-> One way is to use the pop() method. This method removes the last element of a list by default, \n",
    "   or you can specify the index of the element you want to remove."
   ]
  },
  {
   "cell_type": "markdown",
   "id": "700bdee3",
   "metadata": {},
   "source": [
    "# 27) Suppose list1 is [2, 33, 222, 14, and 25], what is list1 [-1]?"
   ]
  },
  {
   "cell_type": "code",
   "execution_count": null,
   "id": "f604b788",
   "metadata": {},
   "outputs": [],
   "source": [
    "list1 = [2,33,222,14,25]\n",
    "print(list1[-1])\n",
    "\n",
    "# Ans : 25"
   ]
  },
  {
   "cell_type": "markdown",
   "id": "e6f27c56",
   "metadata": {},
   "source": [
    "# 28) Differentiate between append () and extend () methods? "
   ]
  },
  {
   "cell_type": "markdown",
   "id": "8fdd1667",
   "metadata": {},
   "source": [
    "-> append() Adds a single element to the end of the list.\n",
    "-> extend() Adds multiple elements from an iterable (e.g., another list, tuple, string) to the end of the list."
   ]
  },
  {
   "cell_type": "markdown",
   "id": "fc804845",
   "metadata": {},
   "source": [
    "# 29) Write a Python function to get the largest number, smallest num and sum of all from a list. "
   ]
  },
  {
   "cell_type": "code",
   "execution_count": null,
   "id": "e5141482",
   "metadata": {},
   "outputs": [],
   "source": [
    "num = int(input(\"enter the number in list:\"))\n",
    "list1 = []\n",
    "for i in range(1,num+1):\n",
    "    ele = int(input())\n",
    "    list1.append(ele)\n",
    "print(list1)\n",
    "print(\"Largest number in the list is \",max(list1))\n",
    "print(\"Smallest number in the list is \",min(list1))\n",
    "print(\"sum of all number in list is \",sum(list1))"
   ]
  },
  {
   "cell_type": "markdown",
   "id": "efece623",
   "metadata": {},
   "source": [
    "# 30) How will you compare two lists? "
   ]
  },
  {
   "cell_type": "markdown",
   "id": "18831843",
   "metadata": {},
   "source": [
    "-> 1) Using the \"==\" operator: This checks if the lists have the same elements in the same order.\n",
    "-> 2) Check if Lists Contain the Same Elements (Order Doesn't Matter):\n",
    "      Using the set() function: Convert both lists to sets and compare them."
   ]
  },
  {
   "cell_type": "markdown",
   "id": "21a85119",
   "metadata": {},
   "source": [
    "# 31) Write a Python program to count the number of strings where the string length is 2 or more and the first and last character are same from a given list of strings."
   ]
  },
  {
   "cell_type": "code",
   "execution_count": null,
   "id": "be18f81b",
   "metadata": {},
   "outputs": [],
   "source": [
    "num = int(input(\"Enter the number in list: \"))\n",
    "list = []\n",
    "ctr = 0\n",
    "for i in range(1,num+1):\n",
    "    ele = input()\n",
    "    list.append(ele)\n",
    "    if len(ele) > 1 and ele[0] == ele[-1]:\n",
    "        ctr += 1\n",
    "print(list)\n",
    "print(ctr)"
   ]
  },
  {
   "cell_type": "markdown",
   "id": "4b60f4b1",
   "metadata": {},
   "source": [
    "# 32) Write a Python program to remove duplicates from a list."
   ]
  },
  {
   "cell_type": "code",
   "execution_count": 1,
   "id": "0e616237",
   "metadata": {},
   "outputs": [
    {
     "name": "stdout",
     "output_type": "stream",
     "text": [
      "['a', 'b', 'c']\n"
     ]
    }
   ],
   "source": [
    "mylist = [\"a\", \"b\", \"a\", \"c\", \"c\"]\n",
    "mylist = list(dict.fromkeys(mylist))\n",
    "print(mylist)"
   ]
  },
  {
   "cell_type": "markdown",
   "id": "86362f97",
   "metadata": {},
   "source": [
    "# 33) Write a Python program to check a list is empty or not"
   ]
  },
  {
   "cell_type": "code",
   "execution_count": 3,
   "id": "5cd4a58a",
   "metadata": {},
   "outputs": [
    {
     "name": "stdout",
     "output_type": "stream",
     "text": [
      "The list is empty\n"
     ]
    }
   ],
   "source": [
    "a = []\n",
    "if not a:\n",
    "    print(\"The list is empty\")\n",
    "else:\n",
    "    print(\"The list is not empty\")"
   ]
  },
  {
   "cell_type": "markdown",
   "id": "b3ffbbb8",
   "metadata": {},
   "source": [
    "# 34) Write a Python function that takes two lists and returns true if they have at least one common member. "
   ]
  },
  {
   "cell_type": "code",
   "execution_count": 7,
   "id": "f929492f",
   "metadata": {},
   "outputs": [
    {
     "name": "stdout",
     "output_type": "stream",
     "text": [
      "Common {3}\n"
     ]
    }
   ],
   "source": [
    "a = [1, 2, 3, 4]\n",
    "b = [5, 6, 3, 8]\n",
    "common = set(a) & set(b)\n",
    "if common:\n",
    "    print(\"Common\", common)\n",
    "else:\n",
    "    print(\"Not common.\")"
   ]
  },
  {
   "cell_type": "markdown",
   "id": "6fd99dc1",
   "metadata": {},
   "source": [
    "# 35) Write a Python program to generate and print a list of first and last 5 elements where the values are square of numbers between 1 and 30."
   ]
  },
  {
   "cell_type": "code",
   "execution_count": 9,
   "id": "d3c854a5",
   "metadata": {},
   "outputs": [
    {
     "name": "stdout",
     "output_type": "stream",
     "text": [
      "first 5 element  [1, 4, 9, 16, 25]\n",
      "last 5 element  [676, 729, 784, 841, 900]\n"
     ]
    }
   ],
   "source": [
    "list1 = []\n",
    "for i in range(1,31):\n",
    "    list1.append(i**2)\n",
    "print(\"first 5 element \",list1[:5])\n",
    "print(\"last 5 element \",list1[-5:])"
   ]
  },
  {
   "cell_type": "markdown",
   "id": "484dcd7c",
   "metadata": {},
   "source": [
    "# 36) Write a Python function that takes a list and returns a new list with unique elements of the first list. \n"
   ]
  },
  {
   "cell_type": "code",
   "execution_count": 11,
   "id": "20232469",
   "metadata": {},
   "outputs": [
    {
     "name": "stdout",
     "output_type": "stream",
     "text": [
      "[1, 2, 3, 4, 5, 6, 7, 8, 9]\n"
     ]
    }
   ],
   "source": [
    "a = [1,2,3,3,4,4,4,5,5,6,7,7,8,8,8,9,9]\n",
    "new = list(set(a))\n",
    "print(new)\n"
   ]
  },
  {
   "cell_type": "markdown",
   "id": "9253094c",
   "metadata": {},
   "source": [
    "# 37) Write a Python program to convert a list of characters into a string. "
   ]
  },
  {
   "cell_type": "code",
   "execution_count": 13,
   "id": "4b5ba44d",
   "metadata": {},
   "outputs": [
    {
     "name": "stdout",
     "output_type": "stream",
     "text": [
      "mysqlisbest\n"
     ]
    }
   ],
   "source": [
    "s = ['m','y','sql','is','best']\n",
    "string = ''.join(s)\n",
    "print(string)"
   ]
  },
  {
   "cell_type": "markdown",
   "id": "f5da54f7",
   "metadata": {},
   "source": [
    "# 38) Write a Python program to select an item randomly from a list. \n"
   ]
  },
  {
   "cell_type": "code",
   "execution_count": 17,
   "id": "762e7835",
   "metadata": {},
   "outputs": [
    {
     "name": "stdout",
     "output_type": "stream",
     "text": [
      "blue\n"
     ]
    }
   ],
   "source": [
    "import random\n",
    "colour_list = ['red','blue','pink','black','purple','white']\n",
    "print(random.choice(colour_list))"
   ]
  },
  {
   "cell_type": "markdown",
   "id": "bca1f96c",
   "metadata": {},
   "source": [
    "# 39) Write a Python program to find the second smallest number in a list."
   ]
  },
  {
   "cell_type": "code",
   "execution_count": null,
   "id": "832b729d",
   "metadata": {},
   "outputs": [],
   "source": [
    "num = int(input(\"how many elemnet in list? :- \"))\n",
    "list1 = []\n",
    "for i in range(1,num+1):\n",
    "    ele = int(input(f\"enter the element {i} :- \"))\n",
    "    list1.append(ele)\n",
    "print(list1)"
   ]
  },
  {
   "cell_type": "markdown",
   "id": "bcb07b53",
   "metadata": {},
   "source": [
    "# 40) Write a Python program to get unique values from a list \n",
    "  "
   ]
  },
  {
   "cell_type": "code",
   "execution_count": 19,
   "id": "41e3796f",
   "metadata": {},
   "outputs": [
    {
     "name": "stdout",
     "output_type": "stream",
     "text": [
      "[1, 2, 4, 6, 7, 8, 9, 10, 12]\n"
     ]
    }
   ],
   "source": [
    "a = [1,2,2,4,4,6,6,7,7,8,9,10,12]\n",
    "unique_value = list(set(a))\n",
    "print(unique_value)"
   ]
  },
  {
   "cell_type": "markdown",
   "id": "ff0868c6",
   "metadata": {},
   "source": [
    "# 41) Write a Python program to check whether a list contains a sub list"
   ]
  },
  {
   "cell_type": "code",
   "execution_count": 3,
   "id": "aeeadf6e",
   "metadata": {},
   "outputs": [
    {
     "name": "stdout",
     "output_type": "stream",
     "text": [
      "True\n"
     ]
    }
   ],
   "source": [
    "a = [5, 6, 3, 8, 2, 1, 7, 1]\n",
    "b = [8, 2, 1] # sublist\n",
    "a_str = ','.join(map(str, a))\n",
    "b_str = ','.join(map(str, b))\n",
    "sub_list = a_str.find(b_str) != -1\n",
    "print(sub_list)\n"
   ]
  },
  {
   "cell_type": "markdown",
   "id": "811a25d1",
   "metadata": {},
   "source": [
    "# 42) Write a Python program to split a list into different variables. "
   ]
  },
  {
   "cell_type": "code",
   "execution_count": 11,
   "id": "0f56e31e",
   "metadata": {},
   "outputs": [
    {
     "name": "stdout",
     "output_type": "stream",
     "text": [
      "Variable 1: 10\n",
      "Variable 2: 20\n",
      "Variable 3: 30\n",
      "Variable 4: 40\n",
      "Variable 5: 50\n"
     ]
    }
   ],
   "source": [
    "my_list = [10, 20, 30, 40, 50]\n",
    "variables = (my_list)\n",
    "for index, value in enumerate(variables):\n",
    "    print(f\"Variable {index + 1}: {value}\")"
   ]
  },
  {
   "cell_type": "markdown",
   "id": "1ef7e518",
   "metadata": {},
   "source": [
    "# 43) What is tuple? Difference between list and tuple."
   ]
  },
  {
   "cell_type": "markdown",
   "id": "1313fc65",
   "metadata": {},
   "source": [
    "A tuple is a collection of elements that are ordered and cannot be changed.\n",
    "\n",
    "-> List is Mutable and Tuple is not (Cannot update an element, insert and delete elements)\n",
    "-> Tuples are faster because of read only nature. Memory can be efficiently allocated and used for tuples."
   ]
  },
  {
   "cell_type": "markdown",
   "id": "d340df6d",
   "metadata": {},
   "source": [
    "# 44) Write a Python program to create a tuple with different data types. "
   ]
  },
  {
   "cell_type": "code",
   "execution_count": null,
   "id": "a50cdf8f",
   "metadata": {},
   "outputs": [],
   "source": [
    "tuples = (\"python\",10, 11.5,True)\n",
    "print(tuples)"
   ]
  },
  {
   "cell_type": "markdown",
   "id": "b3abb631",
   "metadata": {},
   "source": [
    "# 45) Write a Python program to unzip a list of tuples into individual lists. "
   ]
  },
  {
   "cell_type": "code",
   "execution_count": null,
   "id": "39eb3360",
   "metadata": {},
   "outputs": [],
   "source": [
    "list1 = [1,2,3,4,5]\n",
    "list2 = [6,7,8,9,10]\n",
    "list1+list2"
   ]
  },
  {
   "cell_type": "markdown",
   "id": "605f03f2",
   "metadata": {},
   "source": [
    "# 46) Write a Python program to convert a list of tuples into a dictionary."
   ]
  },
  {
   "cell_type": "code",
   "execution_count": null,
   "id": "a00d6b83",
   "metadata": {},
   "outputs": [],
   "source": [
    "jay = \"jay\"\n",
    "print(\"ok\",jay,\"done\")"
   ]
  },
  {
   "cell_type": "markdown",
   "id": "8b77c07f",
   "metadata": {},
   "source": [
    "# 47) How will you create a dictionary using tuples in python?"
   ]
  },
  {
   "cell_type": "code",
   "execution_count": null,
   "id": "5039a8c0",
   "metadata": {},
   "outputs": [],
   "source": [
    "tuples = (('x', 10), ('y', 20), ('z', 30))\n",
    "my_dict = dict(tuples)\n",
    "print(my_dict)"
   ]
  },
  {
   "cell_type": "markdown",
   "id": "ac5e3148",
   "metadata": {},
   "source": [
    "# 48) Write a Python script to sort (ascending and descending) a dictionary by value."
   ]
  },
  {
   "cell_type": "code",
   "execution_count": null,
   "id": "aa583264",
   "metadata": {},
   "outputs": [],
   "source": [
    "my_dict = {'a': 500, 'b': 1000, 'c': 1500, 'd': 1200, 'e': 600}\n",
    "ascending_order = dict(sorted(my_dict.items(), key=lambda x: x[1]))\n",
    "descending_order = dict(sorted(my_dict.items(), key=lambda x: x[1], reverse=True))\n",
    "print(\"Original Dictionary:\", my_dict)\n",
    "print(\"Ascending Order:\", ascending_order)\n",
    "print(\"Descending Order:\", descending_order)"
   ]
  },
  {
   "cell_type": "markdown",
   "id": "30f1083a",
   "metadata": {},
   "source": [
    "# 49) Write a Python script to concatenate following dictionaries to create a new one."
   ]
  },
  {
   "cell_type": "code",
   "execution_count": null,
   "id": "8138055b",
   "metadata": {},
   "outputs": [],
   "source": [
    "dict1 = {'a': 1, 'b': 2}\n",
    "dict2 = {'c': 3, 'd': 4}\n",
    "dict3 = {'e': 5, 'f': 6}\n",
    "new_dict = {}\n",
    "new_dict.update(dict1)\n",
    "new_dict.update(dict2)\n",
    "new_dict.update(dict3)\n",
    "print(\"Concatenated Dictionary:\", new_dict)"
   ]
  },
  {
   "cell_type": "markdown",
   "id": "b95f8043",
   "metadata": {},
   "source": [
    "# 50) Write a Python script to check if a given key already exists in a dictionary"
   ]
  },
  {
   "cell_type": "code",
   "execution_count": 15,
   "id": "15717a6e",
   "metadata": {},
   "outputs": [
    {
     "name": "stdout",
     "output_type": "stream",
     "text": [
      "True\n",
      "False\n"
     ]
    }
   ],
   "source": [
    "my_dict = {'a': 1, 'b': 2, 'c': 3}\n",
    "key = 'b'\n",
    "print(key in my_dict) \n",
    "key = 'g'\n",
    "print(key in my_dict) "
   ]
  },
  {
   "cell_type": "markdown",
   "id": "bbc6befe",
   "metadata": {},
   "source": [
    "# 51) How Do You Traverse Through a Dictionary Object in Python?"
   ]
  },
  {
   "cell_type": "code",
   "execution_count": 17,
   "id": "828b56da",
   "metadata": {},
   "outputs": [
    {
     "name": "stdout",
     "output_type": "stream",
     "text": [
      "Key-Value Pairs:\n",
      "a: 1\n",
      "b: 2\n",
      "c: 3\n"
     ]
    }
   ],
   "source": [
    "print(\"Key-Value Pairs:\")\n",
    "for key, value in my_dict.items():\n",
    "    print(f\"{key}: {value}\")\n"
   ]
  },
  {
   "cell_type": "markdown",
   "id": "e169a72d",
   "metadata": {},
   "source": [
    "# 52) How Do You Check the Presence of a Key in A Dictionary?"
   ]
  },
  {
   "cell_type": "code",
   "execution_count": 19,
   "id": "7f723226",
   "metadata": {},
   "outputs": [
    {
     "name": "stdin",
     "output_type": "stream",
     "text": [
      "Enter the key to check:  c\n"
     ]
    },
    {
     "name": "stdout",
     "output_type": "stream",
     "text": [
      "The key 'c' exists in the dictionary with value 3.\n"
     ]
    }
   ],
   "source": [
    "my_dict = {'a': 1, 'b': 2, 'c': 3}\n",
    "key_to_check = input(\"Enter the key to check: \")\n",
    "\n",
    "if key_to_check in my_dict:\n",
    "    print(f\"The key '{key_to_check}' exists in the dictionary with value {my_dict[key_to_check]}.\")\n",
    "else:\n",
    "    print(f\"The key '{key_to_check}' does not exist in the dictionary.\")\n"
   ]
  },
  {
   "cell_type": "markdown",
   "id": "158761e9",
   "metadata": {},
   "source": [
    "# 53) Write a Python script to print a dictionary where the keys arenumbers between 1 and 15."
   ]
  },
  {
   "cell_type": "code",
   "execution_count": null,
   "id": "f2be6b6f",
   "metadata": {},
   "outputs": [],
   "source": [
    "my_dict = {x: x**2 for x in range(1, 16)}\n",
    "\n",
    "print(\"Dictionary with keys 1 to 15 and values as squares:\")\n",
    "print(my_dict)\n"
   ]
  },
  {
   "cell_type": "markdown",
   "id": "b314545e",
   "metadata": {},
   "source": [
    "# 54) Write a Python program to check multiple keys exists in a dictionary"
   ]
  },
  {
   "cell_type": "code",
   "execution_count": null,
   "id": "07d58bfd",
   "metadata": {},
   "outputs": [],
   "source": [
    "my_dict = {'a': 1, 'b': 2, 'c': 3, 'd': 4}\n",
    "\n",
    "keys_to_check = ['a', 'c', 'e']\n",
    "\n",
    "all_exist = all(key in my_dict for key in keys_to_check)\n",
    "\n",
    "any_exist = any(key in my_dict for key in keys_to_check)\n",
    "\n",
    "print(f\"Do all keys {keys_to_check} exist? {'Yes' if all_exist else 'No'}\")\n",
    "print(f\"Does any key from {keys_to_check} exist? {'Yes' if any_exist else 'No'}\")"
   ]
  },
  {
   "cell_type": "markdown",
   "id": "9ae77f2c",
   "metadata": {},
   "source": [
    "# 55) Write a Python script to merge two Python dictionaries"
   ]
  },
  {
   "cell_type": "code",
   "execution_count": null,
   "id": "af4d5ae0",
   "metadata": {},
   "outputs": [],
   "source": [
    "dict1 = {'a': 1, 'b': 2}\n",
    "dict2 = {'c': 3, 'd': 4}\n",
    "\n",
    "merged_dict = dict1.copy()\n",
    "\n",
    "merged_dict.update(dict2)\n",
    "\n",
    "print(\"Merged Dictionary:\", merged_dict)"
   ]
  },
  {
   "cell_type": "markdown",
   "id": "ad316fb5",
   "metadata": {},
   "source": [
    "# 56)Write a Python program to map two lists into a dictionary Sample output: Counter ({'a': 400, 'b': 400,’d’: 400, 'c': 300}). "
   ]
  },
  {
   "cell_type": "code",
   "execution_count": null,
   "id": "3a1dc83f",
   "metadata": {},
   "outputs": [],
   "source": [
    "from collections import Counter\n",
    "\n",
    "keys = ['a', 'b', 'c', 'd', 'a', 'b', 'd']\n",
    "values = [400, 400, 300, 400, 400, 300, 400]\n",
    "\n",
    "result_dict = dict(zip(keys, values))\n",
    "\n",
    "value_count = Counter(result_dict)\n",
    "\n",
    "print(\"Mapped Dictionary:\", result_dict)\n",
    "print(\"Counter of Values:\", value_count)\n"
   ]
  },
  {
   "cell_type": "markdown",
   "id": "8aac7940",
   "metadata": {},
   "source": [
    "# 57) Write a Python program to find the highest 3 values in a dictionary"
   ]
  },
  {
   "cell_type": "code",
   "execution_count": null,
   "id": "1b315579",
   "metadata": {},
   "outputs": [],
   "source": [
    "data = {'a': 50, 'b': 20, 'c': 90, 'd': 40, 'e': 70}\n",
    "highest_values = sorted(data.values(), reverse=True)[:3]\n",
    "print(\"The highest 3 values are:\", highest_values)"
   ]
  },
  {
   "cell_type": "markdown",
   "id": "89a16351",
   "metadata": {},
   "source": [
    "# 58)Write a Python program to combine values in python list of dictionaries. Sample data: [{'item': 'item1', 'amount': 400}, {'item': 'item2', 'amount': 300},o {'item': 'item1', 'amount': 750}]                                                                        Expected Output:                                                                                                          • Counter ({'item1': 1150, 'item2': 300})"
   ]
  },
  {
   "cell_type": "code",
   "execution_count": null,
   "id": "a35e1ebb",
   "metadata": {},
   "outputs": [],
   "source": [
    "from collections import Counter\n",
    "data = [{'item': 'item1', 'amount': 500}, {'item': 'item2', 'amount': 2000}, {'item': 'item1', 'amount': 1000}]\n",
    "combined_data = Counter()\n",
    "for entry in data:\n",
    "    item = entry['item']\n",
    "    amount = entry['amount']\n",
    "    combined_data[item] += amount\n",
    "print(combined_data)"
   ]
  },
  {
   "cell_type": "markdown",
   "id": "c2a6cae1",
   "metadata": {},
   "source": [
    "# 59) Write a Python program to create a dictionary from a string. Note: Track the count of the letters from the string."
   ]
  },
  {
   "cell_type": "code",
   "execution_count": null,
   "id": "7ac565b9",
   "metadata": {},
   "outputs": [],
   "source": [
    "text  = input(\"enter the word\")\n",
    "count = {}\n",
    "\n",
    "for i in text:\n",
    "    if i in count:\n",
    "        count[i] += 1\n",
    "    else:\n",
    "        count[i] = 1\n",
    "print(count)"
   ]
  },
  {
   "cell_type": "markdown",
   "id": "a0e7704b",
   "metadata": {},
   "source": [
    "# 60)Sample string: 'w3resource' Expected output: • {'3': 1,’s’: 1, 'r': 2, 'u': 1, 'w': 1, 'c': 1, 'e': 2, 'o': 1}"
   ]
  },
  {
   "cell_type": "code",
   "execution_count": null,
   "id": "c8d980f4",
   "metadata": {},
   "outputs": [],
   "source": [
    "text  = input(\"enter the word\")\n",
    "count = {}\n",
    "\n",
    "for i in text:\n",
    "    if i in count:\n",
    "        count[i] += 1\n",
    "    else:\n",
    "        count[i] = 1\n",
    "print(count)"
   ]
  },
  {
   "cell_type": "markdown",
   "id": "51a7506a",
   "metadata": {},
   "source": [
    "# 61)Write a Python function to calculate the factorial of a number (anonnegative integer) \n"
   ]
  },
  {
   "cell_type": "code",
   "execution_count": 21,
   "id": "688dbc2a",
   "metadata": {},
   "outputs": [
    {
     "data": {
      "text/plain": [
       "3628800"
      ]
     },
     "execution_count": 21,
     "metadata": {},
     "output_type": "execute_result"
    }
   ],
   "source": [
    "def factorial(n):\n",
    "    \n",
    "    if n == 0:\n",
    "        return 1\n",
    "    else:\n",
    "        return n * factorial(n-1)\n",
    "factorial(10)"
   ]
  },
  {
   "cell_type": "markdown",
   "id": "c7cf6ae9",
   "metadata": {},
   "source": [
    "# 62) Write a Python function to check whether a number is in a given range"
   ]
  },
  {
   "cell_type": "code",
   "execution_count": 23,
   "id": "a0d83941",
   "metadata": {},
   "outputs": [],
   "source": [
    "def check(n):\n",
    "    if n in range(1,71):\n",
    "        print(f\"{n} is in the range.\")\n",
    "    else:\n",
    "        print(\"The number is outside the given range.\")"
   ]
  },
  {
   "cell_type": "code",
   "execution_count": 29,
   "id": "393c4bfd",
   "metadata": {},
   "outputs": [
    {
     "name": "stdout",
     "output_type": "stream",
     "text": [
      "The number is outside the given range.\n"
     ]
    }
   ],
   "source": [
    "check(70)"
   ]
  },
  {
   "cell_type": "markdown",
   "id": "7d44a022",
   "metadata": {},
   "source": [
    "# 63) Write a Python function to check whether a number is perfect or not. "
   ]
  },
  {
   "cell_type": "code",
   "execution_count": 35,
   "id": "1a900407",
   "metadata": {},
   "outputs": [
    {
     "data": {
      "text/plain": [
       "True"
      ]
     },
     "execution_count": 35,
     "metadata": {},
     "output_type": "execute_result"
    }
   ],
   "source": [
    "def perfect_number(n):\n",
    "    sum = 0\n",
    "     \n",
    "    for x in range(1, n):\n",
    "        if n % x == 0:\n",
    "            sum += x\n",
    "    return sum == n\n",
    "\n",
    "perfect_number(0) "
   ]
  },
  {
   "cell_type": "markdown",
   "id": "58ee3950",
   "metadata": {},
   "source": [
    "# 64) Write a Python function that checks whether a passed string is palindrome or not "
   ]
  },
  {
   "cell_type": "code",
   "execution_count": 43,
   "id": "d747cff6",
   "metadata": {},
   "outputs": [
    {
     "name": "stdin",
     "output_type": "stream",
     "text": [
      "enter the word history\n"
     ]
    },
    {
     "name": "stdout",
     "output_type": "stream",
     "text": [
      "string is not palindrome\n"
     ]
    }
   ],
   "source": [
    "text = input(\"enter the word\")\n",
    "\n",
    "if text == text[::-1]:\n",
    "    print(\"string is palindrome\")\n",
    "else:\n",
    "    print(\"string is not palindrome\")"
   ]
  },
  {
   "cell_type": "markdown",
   "id": "f7c110d9",
   "metadata": {},
   "source": [
    "# 65) How Many Basic Types of Functions Are Available in Python?"
   ]
  },
  {
   "cell_type": "markdown",
   "id": "d104599c",
   "metadata": {},
   "source": [
    "-> there are two types of function in python\n",
    "   1) Built-in function\n",
    "   2) user-defined function"
   ]
  },
  {
   "cell_type": "markdown",
   "id": "f79df3bf",
   "metadata": {},
   "source": [
    "# 66) How can you pick a random item from a list or tuple? \n"
   ]
  },
  {
   "cell_type": "markdown",
   "id": "97e53b99",
   "metadata": {},
   "source": [
    "->The random.choice() method returns a randomly selected element from the specified sequence. \n",
    "The sequence can be a string, a range, a list, a tuple or any other kind of sequence."
   ]
  },
  {
   "cell_type": "markdown",
   "id": "b5c50284",
   "metadata": {},
   "source": [
    "# 67) How can you pick a random item from a range?  "
   ]
  },
  {
   "cell_type": "code",
   "execution_count": null,
   "id": "2bad7a2d",
   "metadata": {},
   "outputs": [],
   "source": [
    "import random\n",
    "r = range(1,51)\n",
    "print(random.choice(r))"
   ]
  },
  {
   "cell_type": "markdown",
   "id": "bde4e52b",
   "metadata": {},
   "source": [
    "# 68) How can you get a random number in python?"
   ]
  },
  {
   "cell_type": "code",
   "execution_count": null,
   "id": "acee5525",
   "metadata": {},
   "outputs": [],
   "source": [
    "import random\n",
    "num = random.random()\n",
    "print(num)"
   ]
  },
  {
   "cell_type": "markdown",
   "id": "00ce1856",
   "metadata": {},
   "source": [
    "# 69) How will you set the starting value in generating random numbers?"
   ]
  },
  {
   "cell_type": "markdown",
   "id": "53fa1f47",
   "metadata": {},
   "source": [
    "-> The seed() method is used to initialize the random number generator. The random number generator needs a number \n",
    "   to start with (a seed value), to be able to generate a random number. By default the random number generator uses \n",
    "   the current system time."
   ]
  },
  {
   "cell_type": "markdown",
   "id": "bc67a15a",
   "metadata": {},
   "source": [
    "# 70) How will you randomize the items of a list in place?"
   ]
  },
  {
   "cell_type": "code",
   "execution_count": null,
   "id": "3a396327",
   "metadata": {},
   "outputs": [],
   "source": [
    "import random\n",
    "\n",
    "mylist = [\"jay\",\"payal\",\"sadaf\",\"sid\",\"vishakha\",\"meghna\",\"ravi\",\"sagar\"]\n",
    "random.shuffle(mylist)\n",
    "\n",
    "print(mylist)"
   ]
  },
  {
   "cell_type": "markdown",
   "id": "f7f98d1f",
   "metadata": {},
   "source": [
    "# 71) What is File function in python? What are keywords to create and write file."
   ]
  },
  {
   "cell_type": "markdown",
   "id": "a1469652",
   "metadata": {},
   "source": [
    "-> A file is data stored in a storage device. a python program can talk to the file by reading content from \n",
    "   it and writing content to it.\n",
    "-> In Python, the keywords to create and write to a file are:\n",
    "   1) open(): Used to open a file in a specific mode (read, write, append, etc.).\n",
    "   2) with: A statement that ensures the file is closed automatically after you're done with it.\n",
    "   3) \"w\": The mode used to open a file for writing. It will create a new file if it doesn't exist, or overwrite an existing file.\n",
    "   4) \"x\": The mode used to create a new file. It will raise an error if the file already exists.\n",
    "   5) \"a\": The mode used to append data to an existing file.\n",
    "   6) write(): A method to write data to the opened file.\n",
    "   7) writelines(): A method to write multiple lines to the opened file."
   ]
  },
  {
   "cell_type": "markdown",
   "id": "dd89b759",
   "metadata": {},
   "source": [
    "# 72) Write a Python program to read an entire text file."
   ]
  },
  {
   "cell_type": "code",
   "execution_count": null,
   "id": "ad1f7ef1",
   "metadata": {},
   "outputs": [],
   "source": [
    "f = open(\"jay.txt\",\"r\")\n",
    "read = f.read()\n",
    "print(read)\n",
    "f.close()"
   ]
  },
  {
   "cell_type": "markdown",
   "id": "0f13bf86",
   "metadata": {},
   "source": [
    "# 73) Write a Python program to append text to a file and display the text."
   ]
  },
  {
   "cell_type": "code",
   "execution_count": null,
   "id": "3772c1f5",
   "metadata": {},
   "outputs": [],
   "source": [
    "f = open(\"jay.txt\",\"a\")\n",
    "text = f.write(\"this is nice\")\n",
    "f.close()"
   ]
  },
  {
   "cell_type": "markdown",
   "id": "7f578ce9",
   "metadata": {},
   "source": [
    "# 74) Write a Python program to read first n lines of a file."
   ]
  },
  {
   "cell_type": "code",
   "execution_count": 7,
   "id": "65372e18",
   "metadata": {},
   "outputs": [],
   "source": [
    "def read_first_n_lines(filename, n):\n",
    "    \"\"\"Read the first n lines of a file.\"\"\"\n",
    "    try:\n",
    "        with open(filename, 'r') as file:\n",
    "            for i in range(n):\n",
    "                line = file.readline()\n",
    "                if not line: \n",
    "                    break\n",
    "                print(line.strip())  \n",
    "    except FileNotFoundError:\n",
    "        print(f\"The file '{filename}' does not exist.\")\n",
    "    except Exception as e:\n",
    "        print(f\"An error occurred: {e}\")"
   ]
  },
  {
   "cell_type": "markdown",
   "id": "5b1190be",
   "metadata": {},
   "source": [
    "# 75) Write a Python program to read last n lines of a file."
   ]
  },
  {
   "cell_type": "code",
   "execution_count": null,
   "id": "b492c34d",
   "metadata": {},
   "outputs": [],
   "source": [
    "n = int(input(\"Enter the number of lines to read from the end: \"))\n",
    "f = open(file_path, 'r') \n",
    "lines = f.readlines()\n",
    "if len(lines) <= n:\n",
    "    for line in lines:\n",
    "        print(line, end='')\n",
    "else:\n",
    "    for line in lines[-n:]:\n",
    "        print(line, end='')"
   ]
  },
  {
   "cell_type": "markdown",
   "id": "b6044e6c",
   "metadata": {},
   "source": [
    "# 76) Write a Python program to read a file line by line and store it into a list "
   ]
  },
  {
   "cell_type": "code",
   "execution_count": null,
   "id": "747150bb",
   "metadata": {},
   "outputs": [],
   "source": [
    "if __name__ == \"__main__\":\n",
    "    filename = input(\"Enter the filename: \")\n",
    "    lines_list = read_file_to_list(filename)\n",
    "    \n",
    "    if lines_list:  # Check if the list is not empty\n",
    "        print(\"Lines read from the file:\")\n",
    "        for line in lines_list:\n",
    "            print(line)\n",
    "    else:\n",
    "        print(\"No lines were read from the file.\")"
   ]
  },
  {
   "cell_type": "markdown",
   "id": "3deb8dcc",
   "metadata": {},
   "source": [
    "# 77) Write a Python program to read a file line by line store it into a variable."
   ]
  },
  {
   "cell_type": "code",
   "execution_count": null,
   "id": "02a98960",
   "metadata": {},
   "outputs": [],
   "source": [
    "def read_file_line_by_line(file_path):\n",
    "    file_content = ''\n",
    "    with open(file_path, 'r') as file:\n",
    "        for line in file:\n",
    "            file_content += line\n",
    "    return file_content\n",
    "file_path = input(\"Enter the file path: \")\n",
    "content = read_file_line_by_line(file_path)\n",
    "print(\"The contents of the file are:\")\n",
    "print(content)"
   ]
  },
  {
   "cell_type": "markdown",
   "id": "72b6077f",
   "metadata": {},
   "source": [
    "# 78) Write a python program to find the longest words."
   ]
  },
  {
   "cell_type": "code",
   "execution_count": null,
   "id": "61fa30a6",
   "metadata": {},
   "outputs": [],
   "source": [
    "def find_longest_words(text):\n",
    "    words = text.split()\n",
    "    max_length = max(len(word) for word in words)\n",
    "    longest_words = [word for word in words if len(word) == max_length]\n",
    "    return longest_words, max_length\n",
    "text = input(\"Enter a sentence: \")\n",
    "longest_words, max_length = find_longest_words(text)\n",
    "print(f\"The longest word(s): {longest_words}\")\n",
    "print(f\"Length of the longest word(s): {max_length}\")"
   ]
  },
  {
   "cell_type": "markdown",
   "id": "88ba6851",
   "metadata": {},
   "source": [
    "# 79) Write a Python program to count the number of lines in a text file."
   ]
  },
  {
   "cell_type": "code",
   "execution_count": 1,
   "id": "27c0cd5b",
   "metadata": {},
   "outputs": [
    {
     "ename": "FileNotFoundError",
     "evalue": "[Errno 2] No such file or directory: 'jay.txt'",
     "output_type": "error",
     "traceback": [
      "\u001b[1;31m---------------------------------------------------------------------------\u001b[0m",
      "\u001b[1;31mFileNotFoundError\u001b[0m                         Traceback (most recent call last)",
      "Cell \u001b[1;32mIn[1], line 1\u001b[0m\n\u001b[1;32m----> 1\u001b[0m \u001b[38;5;28;01mwith\u001b[39;00m \u001b[38;5;28mopen\u001b[39m(\u001b[38;5;124m\"\u001b[39m\u001b[38;5;124mjay.txt\u001b[39m\u001b[38;5;124m\"\u001b[39m, \u001b[38;5;124m'\u001b[39m\u001b[38;5;124mr\u001b[39m\u001b[38;5;124m'\u001b[39m) \u001b[38;5;28;01mas\u001b[39;00m file:\n\u001b[0;32m      2\u001b[0m     lines \u001b[38;5;241m=\u001b[39m file\u001b[38;5;241m.\u001b[39mreadlines()\n\u001b[0;32m      3\u001b[0m \u001b[38;5;28mprint\u001b[39m(lines)\n",
      "File \u001b[1;32m~\\anaconda3\\Lib\\site-packages\\IPython\\core\\interactiveshell.py:324\u001b[0m, in \u001b[0;36m_modified_open\u001b[1;34m(file, *args, **kwargs)\u001b[0m\n\u001b[0;32m    317\u001b[0m \u001b[38;5;28;01mif\u001b[39;00m file \u001b[38;5;129;01min\u001b[39;00m {\u001b[38;5;241m0\u001b[39m, \u001b[38;5;241m1\u001b[39m, \u001b[38;5;241m2\u001b[39m}:\n\u001b[0;32m    318\u001b[0m     \u001b[38;5;28;01mraise\u001b[39;00m \u001b[38;5;167;01mValueError\u001b[39;00m(\n\u001b[0;32m    319\u001b[0m         \u001b[38;5;124mf\u001b[39m\u001b[38;5;124m\"\u001b[39m\u001b[38;5;124mIPython won\u001b[39m\u001b[38;5;124m'\u001b[39m\u001b[38;5;124mt let you open fd=\u001b[39m\u001b[38;5;132;01m{\u001b[39;00mfile\u001b[38;5;132;01m}\u001b[39;00m\u001b[38;5;124m by default \u001b[39m\u001b[38;5;124m\"\u001b[39m\n\u001b[0;32m    320\u001b[0m         \u001b[38;5;124m\"\u001b[39m\u001b[38;5;124mas it is likely to crash IPython. If you know what you are doing, \u001b[39m\u001b[38;5;124m\"\u001b[39m\n\u001b[0;32m    321\u001b[0m         \u001b[38;5;124m\"\u001b[39m\u001b[38;5;124myou can use builtins\u001b[39m\u001b[38;5;124m'\u001b[39m\u001b[38;5;124m open.\u001b[39m\u001b[38;5;124m\"\u001b[39m\n\u001b[0;32m    322\u001b[0m     )\n\u001b[1;32m--> 324\u001b[0m \u001b[38;5;28;01mreturn\u001b[39;00m io_open(file, \u001b[38;5;241m*\u001b[39margs, \u001b[38;5;241m*\u001b[39m\u001b[38;5;241m*\u001b[39mkwargs)\n",
      "\u001b[1;31mFileNotFoundError\u001b[0m: [Errno 2] No such file or directory: 'jay.txt'"
     ]
    }
   ],
   "source": [
    "with open(\"jay.txt\", 'r') as file:\n",
    "    lines = file.readlines()\n",
    "print(lines)"
   ]
  },
  {
   "cell_type": "markdown",
   "id": "5b0c47bb",
   "metadata": {},
   "source": [
    "# 80) Write a Python program to count the frequency of words in a file."
   ]
  },
  {
   "cell_type": "code",
   "execution_count": null,
   "id": "edbf2932",
   "metadata": {},
   "outputs": [],
   "source": [
    "def count_word_frequency(file_name):\n",
    "    with open(file_name, 'r') as file:\n",
    "        content = file.read()\n",
    "    content = content.lower()\n",
    "    for char in \".,!?;:'\\\"()[]{}\":\n",
    "        content = content.replace(char, ' ')\n",
    "    words = content.split()\n",
    "    word_count = {}\n",
    "    for word in words:\n",
    "        if word in word_count:\n",
    "            word_count[word] += 1\n",
    "        else:\n",
    "            word_count[word] = 1\n",
    "    for word, count in word_count.items():\n",
    "        print(f\"'{word}': {count}\")\n",
    "file_name = input(\"Enter the file name (with extension): \")\n",
    "count_word_frequency(file_name)"
   ]
  },
  {
   "cell_type": "markdown",
   "id": "ad26c6c2",
   "metadata": {},
   "source": [
    "# 81) Write a Python program to write a list to a file."
   ]
  },
  {
   "cell_type": "code",
   "execution_count": null,
   "id": "05750386",
   "metadata": {},
   "outputs": [],
   "source": [
    "my_list = [\"apple\", \"banana\", \"cherry\", \"date\"]\n",
    "\n",
    "file_name = input(\"Enter the file name (with extension): \")\n",
    "with open(file_name, 'w') as file:\n",
    "    for item in my_list:\n",
    "        file.write(item + \"\\n\")  \n",
    "\n",
    "print(f\"The list has been written to {file_name}.\")"
   ]
  },
  {
   "cell_type": "markdown",
   "id": "63ab7ea7",
   "metadata": {},
   "source": [
    "# 82) Write a Python program to copy the contents of a file to another file."
   ]
  },
  {
   "cell_type": "code",
   "execution_count": null,
   "id": "62ad5830",
   "metadata": {},
   "outputs": [],
   "source": [
    "source_file = input(\"Enter the source file name (with extension): \")\n",
    "destination_file = input(\"Enter the destination file name (with extension): \")\n",
    "\n",
    "src = open(source_file, 'r')\n",
    "dest = open(destination_file, 'w')\n",
    "\n",
    "dest.write(src.read())\n",
    "\n",
    "src.close()\n",
    "dest.close()\n",
    "\n",
    "print(f\"Contents copied successfully from '{source_file}' to '{destination_file}'.\")"
   ]
  },
  {
   "cell_type": "code",
   "execution_count": null,
   "id": "26f7be05",
   "metadata": {},
   "outputs": [],
   "source": [
    "src = open(\"copy.txt\", 'r')\n",
    "f = src.read()\n",
    "print(f)"
   ]
  },
  {
   "cell_type": "markdown",
   "id": "a7f85198",
   "metadata": {},
   "source": [
    "# 83) Explain Exception handling? What is an Error in Python?"
   ]
  },
  {
   "cell_type": "markdown",
   "id": "b6cd6a73",
   "metadata": {},
   "source": [
    "-> In Python, exception handling is a mechanism for gracefully dealing with errors that occur during the execution of a program.\n",
    "\n",
    "-> An error in Python is an issue that prevents the program from completing its task. \n"
   ]
  },
  {
   "cell_type": "markdown",
   "id": "1d045f1f",
   "metadata": {},
   "source": [
    "# 84) How many except statements can a try-except block have? NameSome built-in exception classes:"
   ]
  },
  {
   "cell_type": "markdown",
   "id": "efdc8978",
   "metadata": {},
   "source": [
    "A try block can have multiple except statements to handle different types of exceptions. There is no strict limit to the number of except blocks, but they should handle specific exception types effectively.\n",
    "\n",
    "ArithmeticError:-   Base class for errors in arithmetic operations.\n",
    "ZeroDivisionError:- Raised when dividing by zero.\n",
    "OverflowError:-     Raised when a numeric operation exceeds limits.\n",
    "AttributeError:-    Raised when an attribute reference or assignment fails.\n",
    "EOFError:-          Raised when input() reaches end-of-file condition.\n",
    "FileNotFoundError:- Raised when a file or directory is requested but not found.\n",
    "IndexError:-        Raised when accessing an invalid index of a sequence (e.g., list or tuple).\n",
    "KeyError:-          Raised when a dictionary key is not found.\n",
    "NameError:-         Raised when a variable or name is not defined.\n",
    "TypeError:-         Raised when an operation or function is applied to an object of inappropriate type.\n",
    "ValueError:-        Raised when an operation receives an argument of the right type but inappropriate value.\n",
    "ImportError:-       Raised when an import statement fails."
   ]
  },
  {
   "cell_type": "markdown",
   "id": "0e5a0e06",
   "metadata": {},
   "source": [
    "# 85) When will the else part of try-except-else be executed?"
   ]
  },
  {
   "cell_type": "markdown",
   "id": "9ffcb456",
   "metadata": {},
   "source": [
    "-> The 'else' block is executed when there are no exceptions raised within the try block. \n",
    "The 'else' block is useful when you want to perform specific actions when no exceptions occur. \n",
    "It can be used, for example, to execute additional code if the 'try' block succeeds in its operation \n",
    "and enhances the program flow."
   ]
  },
  {
   "cell_type": "markdown",
   "id": "9a7f40b9",
   "metadata": {},
   "source": [
    "# 86) Can one block of except statements handle multiple exception?"
   ]
  },
  {
   "cell_type": "markdown",
   "id": "ce48c914",
   "metadata": {},
   "source": [
    "-> Yes, multiple exceptions can be handled in a single except block in Python"
   ]
  },
  {
   "cell_type": "markdown",
   "id": "3938d5bb",
   "metadata": {},
   "source": [
    "# 87) When is the finally block executed?"
   ]
  },
  {
   "cell_type": "markdown",
   "id": "0cb30cb7",
   "metadata": {},
   "source": [
    "-> A finally block is executed when the try block exits, regardless of whether an exception occurs"
   ]
  },
  {
   "cell_type": "markdown",
   "id": "4be967a7",
   "metadata": {},
   "source": [
    "# 88) What happens when „1‟== 1 is executed?"
   ]
  },
  {
   "cell_type": "code",
   "execution_count": null,
   "id": "42a7f094",
   "metadata": {},
   "outputs": [],
   "source": [
    "\"1\" == 1\n",
    "\n",
    "# we get a False"
   ]
  },
  {
   "cell_type": "markdown",
   "id": "0ee5c49a",
   "metadata": {},
   "source": [
    "# 89) How Do You Handle Exceptions with Try/Except/Finally in Python? Explain with coding snippets. "
   ]
  },
  {
   "cell_type": "markdown",
   "id": "27d86998",
   "metadata": {},
   "source": [
    "1) Try: This block will test the excepted error to occur\n",
    "2) Except:  Here you can handle the error\n",
    "3) Finally: Finally block always gets executed either exception is generated or not"
   ]
  },
  {
   "cell_type": "markdown",
   "id": "5fa2b127",
   "metadata": {},
   "source": [
    "# 90) Write python program that user to enter only odd numbers, else will raise an exception."
   ]
  },
  {
   "cell_type": "code",
   "execution_count": null,
   "id": "492e2a27",
   "metadata": {},
   "outputs": [],
   "source": [
    "def prompt_odd_number():\n",
    "    try:\n",
    "        number = int(input(\"Enter an odd number: \"))\n",
    "        if number % 2 == 0:\n",
    "            raise ValueError(\"The entered number is not an odd number.\")\n",
    "        print(f\"Good job! You entered an odd number: {number}\")\n",
    "    except ValueError as e:\n",
    "        print(e)\n",
    "        \n",
    "prompt_odd_number()"
   ]
  }
 ],
 "metadata": {
  "kernelspec": {
   "display_name": "Python 3 (ipykernel)",
   "language": "python",
   "name": "python3"
  },
  "language_info": {
   "codemirror_mode": {
    "name": "ipython",
    "version": 3
   },
   "file_extension": ".py",
   "mimetype": "text/x-python",
   "name": "python",
   "nbconvert_exporter": "python",
   "pygments_lexer": "ipython3",
   "version": "3.12.7"
  }
 },
 "nbformat": 4,
 "nbformat_minor": 5
}
